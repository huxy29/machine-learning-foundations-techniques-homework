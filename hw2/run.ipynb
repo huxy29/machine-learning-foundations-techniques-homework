{
 "cells": [
  {
   "cell_type": "code",
   "execution_count": 1,
   "metadata": {},
   "outputs": [],
   "source": [
    "from DecisionStump import DecisionStump\n",
    "import matplotlib.pyplot as plt\n",
    "import numpy as np\n",
    "\n",
    "ds = DecisionStump()"
   ]
  },
  {
   "cell_type": "markdown",
   "metadata": {},
   "source": [
    "# Question 17-18"
   ]
  },
  {
   "cell_type": "code",
   "execution_count": 2,
   "metadata": {},
   "outputs": [
    {
     "name": "stdout",
     "output_type": "stream",
     "text": [
      "the average Ein is 0.17305\n",
      "the average Eout is 0.2389289734400968\n"
     ]
    }
   ],
   "source": [
    "list_of_Ein = []\n",
    "list_of_Eout = []\n",
    "for i in range(5000):\n",
    "    train_X, train_y = ds.gen_data()\n",
    "    Ein, s, theta = ds.train_1d(train_X, train_y)\n",
    "    Eout = ds.calc_Eout(s, theta)\n",
    "    list_of_Ein.append(Ein)\n",
    "    list_of_Eout.append(Eout)\n",
    "    \n",
    "print(\"the average Ein is {0}\".format(np.mean(list_of_Ein)))\n",
    "print(\"the average Eout is {0}\".format(np.mean(list_of_Eout)))"
   ]
  },
  {
   "cell_type": "code",
   "execution_count": 3,
   "metadata": {},
   "outputs": [
    {
     "data": {
      "image/png": "[encoded data removed]",
      "text/plain": [
       "<matplotlib.figure.Figure at 0x7f9cf8ce2780>"
      ]
     },
     "metadata": {},
     "output_type": "display_data"
    }
   ],
   "source": [
    "Ein_cnt = {}\n",
    "for Ein in list_of_Ein:\n",
    "    Ein_cnt.setdefault(Ein, 0)\n",
    "    Ein_cnt[Ein] += 1\n",
    "\n",
    "x = []\n",
    "y = []\n",
    "xy = [(k, Ein_cnt[k]) for k in sorted(Ein_cnt.keys())]\n",
    "for item in xy:\n",
    "    x.append(item[0])\n",
    "    y.append(item[1])\n",
    "\n",
    "plt.plot(x, y)\n",
    "plt.show()"
   ]
  },
  {
   "cell_type": "code",
   "execution_count": 4,
   "metadata": {},
   "outputs": [
    {
     "data": {
      "image/png": "[encoded data removed]",
      "text/plain": [
       "<matplotlib.figure.Figure at 0x7f9cf8a1fba8>"
      ]
     },
     "metadata": {},
     "output_type": "display_data"
    }
   ],
   "source": [
    "list_of_Eout = np.around(list_of_Eout, decimals=2)    # 保留 2 位小数\n",
    "Eout_cnt = {}\n",
    "for Eout in list_of_Eout:\n",
    "    Eout_cnt.setdefault(Eout, 0)\n",
    "    Eout_cnt[Eout] += 1\n",
    "    \n",
    "x = []\n",
    "y = []\n",
    "xy = [(k, Eout_cnt[k]) for k in sorted(Eout_cnt.keys())]\n",
    "for item in xy:\n",
    "    x.append(item[0])\n",
    "    y.append(item[1])\n",
    "\n",
    "plt.plot(x, y)\n",
    "plt.show()"
   ]
  },
  {
   "cell_type": "markdown",
   "metadata": {},
   "source": [
    "# Question 19-20"
   ]
  },
  {
   "cell_type": "code",
   "execution_count": 5,
   "metadata": {
    "collapsed": true
   },
   "outputs": [],
   "source": [
    "train_X, train_y = ds.load_data('hw2_train.dat.txt')\n",
    "test_X, test_y = ds.load_data('hw2_test.dat.txt')"
   ]
  },
  {
   "cell_type": "code",
   "execution_count": 6,
   "metadata": {},
   "outputs": [
    {
     "name": "stdout",
     "output_type": "stream",
     "text": [
      "the optimal decision stump: i=3, s=-1, theta=1.6175000000000002\n",
      "the Ein of the optimal decision stump is: 0.25\n"
     ]
    }
   ],
   "source": [
    "ds.train(train_X, train_y)\n",
    "print(\"the optimal decision stump: i={0}, s={1}, theta={2}\".format(ds.opt_i, ds.opt_s, ds.opt_theta))\n",
    "print(\"the Ein of the optimal decision stump is: {0}\".format(ds.opt_err))"
   ]
  },
  {
   "cell_type": "code",
   "execution_count": 7,
   "metadata": {},
   "outputs": [
    {
     "name": "stdout",
     "output_type": "stream",
     "text": [
      "the estimate of Eout by Etest is: 0.355\n"
     ]
    }
   ],
   "source": [
    "Etest = ds.verify(test_X, test_y)\n",
    "print(\"the estimate of Eout by Etest is: {0}\".format(Etest))"
   ]
  }
 ],
 "metadata": {
  "kernelspec": {
   "display_name": "Python 3",
   "language": "python",
   "name": "python3"
  },
  "language_info": {
   "codemirror_mode": {
    "name": "ipython",
    "version": 3
   },
   "file_extension": ".py",
   "mimetype": "text/x-python",
   "name": "python",
   "nbconvert_exporter": "python",
   "pygments_lexer": "ipython3",
   "version": "3.5.2"
  }
 },
 "nbformat": 4,
 "nbformat_minor": 2
}
