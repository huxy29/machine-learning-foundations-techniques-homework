{
 "cells": [
  {
   "cell_type": "code",
   "execution_count": 1,
   "metadata": {
    "collapsed": true
   },
   "outputs": [],
   "source": [
    "from RidgeRegression import RidgeRegression"
   ]
  },
  {
   "cell_type": "markdown",
   "metadata": {},
   "source": [
    "# Problem 13"
   ]
  },
  {
   "cell_type": "code",
   "execution_count": 2,
   "metadata": {},
   "outputs": [
    {
     "name": "stdout",
     "output_type": "stream",
     "text": [
      "Set lambda=11.26\tEin=0.055\tEout=0.052\n"
     ]
    }
   ],
   "source": [
    "ridgeReg = RidgeRegression()\n",
    "train_X, train_y = ridgeReg.load_data('hw4_train.dat.txt')\n",
    "test_X, test_y = ridgeReg.load_data('hw4_test.dat.txt')\n",
    "\n",
    "ridgeReg.train(train_X, train_y)\n",
    "Ein = ridgeReg.calc_err_rate(train_X, train_y)\n",
    "Eout = ridgeReg.calc_err_rate(test_X, test_y)\n",
    "print('Set lambda=11.26\\tEin={0}\\tEout={1}'.format(Ein, Eout))"
   ]
  },
  {
   "cell_type": "markdown",
   "metadata": {},
   "source": [
    "# Problem 14-15"
   ]
  },
  {
   "cell_type": "code",
   "execution_count": 3,
   "metadata": {},
   "outputs": [
    {
     "name": "stdout",
     "output_type": "stream",
     "text": [
      "lambda=1e-08\tEin=0.015\tEout=0.02\n",
      "lambda=1e-07\tEin=0.03\tEout=0.015\n"
     ]
    }
   ],
   "source": [
    "list_of_lamda = [10**(-x+2) for x in range(13)]\n",
    "list_of_Ein = []\n",
    "list_of_Eout = []\n",
    "for lamda in list_of_lamda:\n",
    "    ridgeReg.train(train_X, train_y, lamda=lamda)\n",
    "    Ein = ridgeReg.calc_err_rate(train_X, train_y)\n",
    "    Eout = ridgeReg.calc_err_rate(test_X, test_y)\n",
    "    list_of_Ein.append(Ein)\n",
    "    list_of_Eout.append(Eout)\n",
    "\n",
    "\n",
    "\n",
    "i = ridgeReg.find_minErr(list_of_Ein)\n",
    "print('lambda={0}\\tEin={1}\\tEout={2}'.format(list_of_lamda[i], list_of_Ein[i], list_of_Eout[i]))\n",
    "\n",
    "i = ridgeReg.find_minErr(list_of_Eout)\n",
    "print('lambda={0}\\tEin={1}\\tEout={2}'.format(list_of_lamda[i], list_of_Ein[i], list_of_Eout[i]))"
   ]
  },
  {
   "cell_type": "markdown",
   "metadata": {},
   "source": [
    "# Problem 16-17"
   ]
  },
  {
   "cell_type": "code",
   "execution_count": 4,
   "metadata": {},
   "outputs": [
    {
     "name": "stdout",
     "output_type": "stream",
     "text": [
      "lambda=1e-08\tEtrain=0.0\tEval=0.05\tEout=0.025\n",
      "lambda=1\tEtrain=0.0333\tEval=0.0375\tEout=0.028\n"
     ]
    }
   ],
   "source": [
    "Dtrain_X = train_X[:120]\n",
    "Dtrain_y = train_y[:120]\n",
    "Dval_X = train_X[120:]\n",
    "Dval_y = train_y[120:]\n",
    "\n",
    "list_of_Etrain = []\n",
    "list_of_Eval = []\n",
    "list_of_Eout = []\n",
    "for lamda in list_of_lamda:\n",
    "    ridgeReg.train(Dtrain_X, Dtrain_y, lamda=lamda)\n",
    "    Etrain = ridgeReg.calc_err_rate(Dtrain_X, Dtrain_y)\n",
    "    Eval = ridgeReg.calc_err_rate(Dval_X, Dval_y)\n",
    "    Eout = ridgeReg.calc_err_rate(test_X, test_y)\n",
    "    list_of_Etrain.append(Etrain)\n",
    "    list_of_Eval.append(Eval)\n",
    "    list_of_Eout.append(Eout)\n",
    "    \n",
    "i = ridgeReg.find_minErr(list_of_Etrain)\n",
    "print('lambda={0}\\tEtrain={1}\\tEval={2}\\tEout={3}' \\\n",
    "      .format(list_of_lamda[i], list_of_Etrain[i], list_of_Eval[i], list_of_Eout[i]))\n",
    "\n",
    "i = ridgeReg.find_minErr(list_of_Eval)\n",
    "print('lambda={0}\\tEtrain={1:.4f}\\tEval={2}\\tEout={3}' \\\n",
    "      .format(list_of_lamda[i], list_of_Etrain[i], list_of_Eval[i], list_of_Eout[i]))"
   ]
  },
  {
   "cell_type": "markdown",
   "metadata": {},
   "source": [
    "# Question 18"
   ]
  },
  {
   "cell_type": "code",
   "execution_count": 5,
   "metadata": {},
   "outputs": [
    {
     "name": "stdout",
     "output_type": "stream",
     "text": [
      "Ein=0.035\tEout=0.02\n"
     ]
    }
   ],
   "source": [
    "ridgeReg.train(train_X, train_y, lamda=1)\n",
    "Ein = ridgeReg.calc_err_rate(train_X, train_y)\n",
    "Eout = ridgeReg.calc_err_rate(test_X, test_y)\n",
    "print('Ein={0}\\tEout={1}'.format(Ein, Eout))"
   ]
  },
  {
   "cell_type": "markdown",
   "metadata": {},
   "source": [
    "# Question 19"
   ]
  },
  {
   "cell_type": "code",
   "execution_count": 7,
   "metadata": {},
   "outputs": [
    {
     "name": "stdout",
     "output_type": "stream",
     "text": [
      "lambda=1e-08\tEcv=0.03\n"
     ]
    }
   ],
   "source": [
    "list_of_Ecv = []\n",
    "for lamda in list_of_lamda:\n",
    "    Ecv = ridgeReg.cross_val_err(train_X, train_y, lamda=lamda)\n",
    "    list_of_Ecv.append(Ecv)\n",
    "\n",
    "i = ridgeReg.find_minErr(list_of_Ecv)\n",
    "print('lambda={0}\\tEcv={1}'.format(list_of_lamda[i], list_of_Ecv[i]))"
   ]
  },
  {
   "cell_type": "markdown",
   "metadata": {},
   "source": [
    "# Question 20"
   ]
  },
  {
   "cell_type": "code",
   "execution_count": 8,
   "metadata": {},
   "outputs": [
    {
     "name": "stdout",
     "output_type": "stream",
     "text": [
      "Ein=0.015\tEout=0.02\n"
     ]
    }
   ],
   "source": [
    "ridgeReg.train(train_X, train_y, lamda=1e-8)\n",
    "Ein = ridgeReg.calc_err_rate(train_X, train_y)\n",
    "Eout = ridgeReg.calc_err_rate(test_X, test_y)\n",
    "print('Ein={0}\\tEout={1}'.format(Ein, Eout))"
   ]
  }
 ],
 "metadata": {
  "kernelspec": {
   "display_name": "Python 3",
   "language": "python",
   "name": "python3"
  },
  "language_info": {
   "codemirror_mode": {
    "name": "ipython",
    "version": 3
   },
   "file_extension": ".py",
   "mimetype": "text/x-python",
   "name": "python",
   "nbconvert_exporter": "python",
   "pygments_lexer": "ipython3",
   "version": "3.5.2"
  }
 },
 "nbformat": 4,
 "nbformat_minor": 2
}
