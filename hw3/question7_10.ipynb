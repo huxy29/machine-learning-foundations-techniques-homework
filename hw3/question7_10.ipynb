{
 "cells": [
  {
   "cell_type": "code",
   "execution_count": 1,
   "metadata": {},
   "outputs": [
    {
     "name": "stdout",
     "output_type": "stream",
     "text": [
      "Question 7(Gradient Descent): after five updates E(u_5, v_5) is 2.824909495379789\n",
      "Question 10(Newton's method): after five updates E(u_5, v_5) is 2.360823345643139\n"
     ]
    }
   ],
   "source": [
    "import numpy as np\n",
    "\n",
    "def E(u, v):\n",
    "    return np.exp(u) + np.exp(2*v) + np.exp(u*v) + u**2 -2*u*v + 2*v**2 - 3*u - 2*v\n",
    "\n",
    "def E_u(u, v):\n",
    "    return np.exp(u) + v*np.exp(u*v) + 2*u -2*v -3\n",
    "\n",
    "def E_v(u, v):\n",
    "    return 2*np.exp(2*v) + u*np.exp(u*v) - 2*u + 4*v -2\n",
    "\n",
    "def E_uu(u, v):\n",
    "    return np.exp(u) + v**2*np.exp(u*v) + 2\n",
    "\n",
    "def E_uv(u, v):\n",
    "    return np.exp(u*v) + u*v*np.exp(u*v) -2\n",
    "\n",
    "def E_vv(u, v):\n",
    "    return 4*np.exp(2*v) + u**2*np.exp(u*v) +4\n",
    "\n",
    "# Gradient Descent\n",
    "u, v = 0, 0\n",
    "eta = 0.01\n",
    "for i in range(5):\n",
    "    u += -eta*E_u(u, v)\n",
    "    v += -eta*E_v(u, v)    \n",
    "print('Question 7(Gradient Descent): after five updates E(u_5, v_5) is {0}'.format(E(u, v)))\n",
    "\n",
    "# Newton's method\n",
    "u, v = 0, 0\n",
    "for i in range(5):\n",
    "    H = np.array([[E_uu(u, v), E_uv(u, v)],\n",
    "                 [E_uv(u, v), E_vv(u, v)]])\n",
    "    H_inv = np.linalg.inv(H)\n",
    "    g = np.array([E_u(u, v),E_v(u, v)])\n",
    "    delta = np.dot(H_inv, g)\n",
    "    u += -delta[0]\n",
    "    v += -delta[1]   \n",
    "print('Question 10(Newton\\'s method): after five updates E(u_5, v_5) is {0}'.format(E(u, v)))"
   ]
  },
  {
   "cell_type": "code",
   "execution_count": null,
   "metadata": {
    "collapsed": true
   },
   "outputs": [],
   "source": []
  }
 ],
 "metadata": {
  "kernelspec": {
   "display_name": "Python 3",
   "language": "python",
   "name": "python3"
  },
  "language_info": {
   "codemirror_mode": {
    "name": "ipython",
    "version": 3
   },
   "file_extension": ".py",
   "mimetype": "text/x-python",
   "name": "python",
   "nbconvert_exporter": "python",
   "pygments_lexer": "ipython3",
   "version": "3.5.2"
  }
 },
 "nbformat": 4,
 "nbformat_minor": 2
}
