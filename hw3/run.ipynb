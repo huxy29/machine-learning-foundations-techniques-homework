{
 "cells": [
  {
   "cell_type": "markdown",
   "metadata": {},
   "source": [
    "# Question 13"
   ]
  },
  {
   "cell_type": "code",
   "execution_count": 1,
   "metadata": {},
   "outputs": [
    {
     "name": "stdout",
     "output_type": "stream",
     "text": [
      "0.503693\n"
     ]
    }
   ],
   "source": [
    "from LinearRegression import LinearRegression\n",
    "import numpy as np\n",
    "lr = LinearRegression()\n",
    "\n",
    "seed = np.random.randint(0, 100000, 1000)\n",
    "list_of_Ein = []\n",
    "for i in range(1000):\n",
    "    np.random.seed(seed[i])\n",
    "    train_X, train_y = lr.gen_data()\n",
    "    lr.train(train_X, train_y)\n",
    "    Ein = lr.calc_err_rate(train_X, train_y)\n",
    "    list_of_Ein.append(Ein)\n",
    "print(np.mean(list_of_Ein))"
   ]
  },
  {
   "cell_type": "markdown",
   "metadata": {},
   "source": [
    "# Question 14"
   ]
  },
  {
   "cell_type": "code",
   "execution_count": 2,
   "metadata": {},
   "outputs": [
    {
     "name": "stdout",
     "output_type": "stream",
     "text": [
      "-0.0031910216562\n"
     ]
    }
   ],
   "source": [
    "seed = np.random.randint(0, 100000, 1000)\n",
    "list_of_w3 = []\n",
    "for i in range(1000):\n",
    "    np.random.seed(seed[i])\n",
    "    train_X, train_y = lr.gen_data()\n",
    "    train_Z = lr.feat_transform(train_X)\n",
    "    lr.train(train_Z, train_y)\n",
    "    list_of_w3.append(lr.w[3])\n",
    "print(np.mean(list_of_w3))"
   ]
  },
  {
   "cell_type": "markdown",
   "metadata": {},
   "source": [
    "# Question 15"
   ]
  },
  {
   "cell_type": "code",
   "execution_count": 3,
   "metadata": {
    "scrolled": true
   },
   "outputs": [
    {
     "name": "stdout",
     "output_type": "stream",
     "text": [
      "0.125537\n"
     ]
    }
   ],
   "source": [
    "seed = np.random.randint(0, 100000, 1000)\n",
    "list_of_Eout = []\n",
    "for i in range(1000):\n",
    "    np.random.seed(seed[i])\n",
    "    train_X, train_y = lr.gen_data()\n",
    "    test_X, test_y = lr.gen_data()\n",
    "    train_Z = lr.feat_transform(train_X)\n",
    "    test_Z = lr.feat_transform(test_X)\n",
    "    lr.train(train_Z, train_y)\n",
    "    Eout = lr.calc_err_rate(test_Z, test_y)\n",
    "    list_of_Eout.append(Eout)\n",
    "print(np.mean(list_of_Eout))"
   ]
  },
  {
   "cell_type": "markdown",
   "metadata": {},
   "source": [
    "---"
   ]
  },
  {
   "cell_type": "markdown",
   "metadata": {},
   "source": [
    "# Question 18"
   ]
  },
  {
   "cell_type": "code",
   "execution_count": 4,
   "metadata": {},
   "outputs": [
    {
     "name": "stdout",
     "output_type": "stream",
     "text": [
      "w = [ 0.01878417 -0.01260595  0.04084862 -0.03266317  0.01502334 -0.03667437\n",
      "  0.01255934  0.04815065 -0.02206419  0.02479605  0.06899284  0.0193719\n",
      " -0.01988549 -0.0087049   0.04605863  0.05793382  0.061218   -0.04720391\n",
      "  0.06070375 -0.01610907 -0.03484607]\n",
      "Eout = 0.475\n"
     ]
    }
   ],
   "source": [
    "from LogisticRegression import LogisticRegression\n",
    "logReg = LogisticRegression()\n",
    "train_X, train_y = logReg.load_data('hw3_train.dat.txt')\n",
    "test_X, test_y = logReg.load_data('hw3_test.dat.txt')\n",
    "\n",
    "logReg.train(train_X, train_y, eta=0.001, T=2000)\n",
    "err1 = logReg.test(test_X, test_y)\n",
    "print('w = {0}'.format(logReg.w))\n",
    "print('Eout = {0}'.format(err1))"
   ]
  },
  {
   "cell_type": "markdown",
   "metadata": {},
   "source": [
    "# Question 19"
   ]
  },
  {
   "cell_type": "code",
   "execution_count": 5,
   "metadata": {},
   "outputs": [
    {
     "name": "stdout",
     "output_type": "stream",
     "text": [
      "w = [-0.00385379 -0.18914564  0.26625908 -0.35356593  0.04088776 -0.3794296\n",
      "  0.01982783  0.33391527 -0.26386754  0.13489328  0.4914191   0.08726107\n",
      " -0.25537728 -0.16291797  0.30073678  0.40014954  0.43218808 -0.46227968\n",
      "  0.43230193 -0.20786372 -0.36936337]\n",
      "Eout = 0.22\n"
     ]
    }
   ],
   "source": [
    "logReg.train(train_X, train_y, eta=0.01, T=2000)\n",
    "err2 = logReg.test(test_X, test_y)\n",
    "print('w = {0}'.format(logReg.w))\n",
    "print('Eout = {0}'.format(err2))"
   ]
  },
  {
   "cell_type": "markdown",
   "metadata": {},
   "source": [
    "# Question 20"
   ]
  },
  {
   "cell_type": "code",
   "execution_count": 6,
   "metadata": {},
   "outputs": [
    {
     "name": "stdout",
     "output_type": "stream",
     "text": [
      "w = [ 0.01826899 -0.01308051  0.04072894 -0.03295698  0.01498363 -0.03691042\n",
      "  0.01232819  0.04791334 -0.02244958  0.02470544  0.06878235  0.01897378\n",
      " -0.02032107 -0.00901469  0.04589259  0.05776824  0.06102487 -0.04756147\n",
      "  0.06035018 -0.01660574 -0.03509342]\n",
      "Eout = 0.473\n"
     ]
    }
   ],
   "source": [
    "logReg.train(train_X, train_y, eta=0.001, T=2000, stochastic='cyclic')\n",
    "err3 = logReg.test(test_X, test_y)\n",
    "print('w = {0}'.format(logReg.w))\n",
    "print('Eout = {0}'.format(err3))"
   ]
  }
 ],
 "metadata": {
  "kernelspec": {
   "display_name": "Python 3",
   "language": "python",
   "name": "python3"
  },
  "language_info": {
   "codemirror_mode": {
    "name": "ipython",
    "version": 3
   },
   "file_extension": ".py",
   "mimetype": "text/x-python",
   "name": "python",
   "nbconvert_exporter": "python",
   "pygments_lexer": "ipython3",
   "version": "3.5.2"
  }
 },
 "nbformat": 4,
 "nbformat_minor": 2
}
