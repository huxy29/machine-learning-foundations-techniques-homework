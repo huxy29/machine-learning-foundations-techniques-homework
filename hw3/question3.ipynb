{
 "cells": [
  {
   "cell_type": "code",
   "execution_count": 1,
   "metadata": {},
   "outputs": [
    {
     "data": {
      "text/plain": [
       "<matplotlib.figure.Figure at 0x7f89a938bf98>"
      ]
     },
     "metadata": {},
     "output_type": "display_data"
    },
    {
     "data": {
      "image/png": "[encoded data removed]",
      "text/plain": [
       "<matplotlib.figure.Figure at 0x7f89a938bf60>"
      ]
     },
     "metadata": {},
     "output_type": "display_data"
    }
   ],
   "source": [
    "import matplotlib.pyplot as plt\n",
    "import numpy as np\n",
    "\n",
    "s = np.linspace(-2, 2, 256,endpoint=True)\n",
    "\n",
    "zero_one = (np.sign(s)!=1)\n",
    "a = np.maximum(0, 1-s)\n",
    "b = (np.maximum(0, 1-s))**2\n",
    "c = np.maximum(0, -s)\n",
    "d = 1/(1+np.exp(-s))\n",
    "e = np.exp(-s)\n",
    "\n",
    "plt.clf()\n",
    "fig, ax = plt.subplots(2, 3, sharex=True, sharey=True)\n",
    "\n",
    "ys = [a, b, c, d, e]\n",
    "titles = ['[a]', '[b]', '[c]', '[d]', '[e]']\n",
    "\n",
    "for i in range(5):\n",
    "    ax[int(i/3), i%3].plot(s, zero_one)\n",
    "    ax[int(i/3), i%3].plot(s, ys[i])\n",
    "    ax[int(i/3), i%3].set_title(titles[i])\n",
    "\n",
    "plt.show()"
   ]
  },
  {
   "cell_type": "code",
   "execution_count": null,
   "metadata": {
    "collapsed": true
   },
   "outputs": [],
   "source": []
  }
 ],
 "metadata": {
  "kernelspec": {
   "display_name": "Python 3",
   "language": "python",
   "name": "python3"
  },
  "language_info": {
   "codemirror_mode": {
    "name": "ipython",
    "version": 3
   },
   "file_extension": ".py",
   "mimetype": "text/x-python",
   "name": "python",
   "nbconvert_exporter": "python",
   "pygments_lexer": "ipython3",
   "version": "3.5.2"
  }
 },
 "nbformat": 4,
 "nbformat_minor": 2
}
